{
 "cells": [
  {
   "cell_type": "markdown",
   "metadata": {},
   "source": [
    "# selection sort\n",
    "\n",
    "1. 가장 단순한 정열 알고리즘중 하나이며,\n",
    "2. $n^2$의 시간 복잡도를 가진다."
   ]
  },
  {
   "cell_type": "code",
   "execution_count": 1,
   "metadata": {
    "collapsed": true
   },
   "outputs": [],
   "source": [
    "#입력된 배열의 x, y번째 값을 교환한다.\n",
    "def swap(numbers, x, y) :\n",
    "    if x == y :\n",
    "        return\n",
    "    numbers[x], numbers[y] = numbers[y], numbers[x]"
   ]
  },
  {
   "cell_type": "code",
   "execution_count": 2,
   "metadata": {
    "collapsed": false
   },
   "outputs": [],
   "source": [
    "def sort(numbers) :\n",
    "    LEN = len(numbers)\n",
    "    for x in range(LEN) :\n",
    "        min_value = numbers[x]\n",
    "        for y in range(x+1, LEN) :\n",
    "            if min_value > numbers[y] :\n",
    "                min_value = numbers[y]\n",
    "                swap(numbers, x, y)               "
   ]
  },
  {
   "cell_type": "code",
   "execution_count": 7,
   "metadata": {
    "collapsed": false
   },
   "outputs": [
    {
     "name": "stdout",
     "output_type": "stream",
     "text": [
      "[1, 2, 3, 4, 5, 6, 7] [1, 2, 3, 4, 5, 6, 7]\n"
     ]
    },
    {
     "ename": "NameError",
     "evalue": "name 'assertEqual' is not defined",
     "output_type": "error",
     "traceback": [
      "\u001b[0;31m---------------------------------------------------------------------------\u001b[0m",
      "\u001b[0;31mNameError\u001b[0m                                 Traceback (most recent call last)",
      "\u001b[0;32m<ipython-input-7-04dba9979227>\u001b[0m in \u001b[0;36m<module>\u001b[0;34m()\u001b[0m\n\u001b[1;32m     20\u001b[0m     \u001b[0msort\u001b[0m\u001b[0;34m(\u001b[0m\u001b[0mtestcases\u001b[0m\u001b[0;34m[\u001b[0m\u001b[0mn\u001b[0m\u001b[0;34m]\u001b[0m\u001b[0;34m)\u001b[0m\u001b[0;34m\u001b[0m\u001b[0m\n\u001b[1;32m     21\u001b[0m     \u001b[0mprint\u001b[0m\u001b[0;34m(\u001b[0m\u001b[0mtestcases\u001b[0m\u001b[0;34m[\u001b[0m\u001b[0mn\u001b[0m\u001b[0;34m]\u001b[0m\u001b[0;34m,\u001b[0m \u001b[0manswers\u001b[0m\u001b[0;34m[\u001b[0m\u001b[0mn\u001b[0m\u001b[0;34m]\u001b[0m\u001b[0;34m)\u001b[0m\u001b[0;34m\u001b[0m\u001b[0m\n\u001b[0;32m---> 22\u001b[0;31m     \u001b[0massertEqual\u001b[0m\u001b[0;34m(\u001b[0m\u001b[0mtestcases\u001b[0m\u001b[0;34m[\u001b[0m\u001b[0mn\u001b[0m\u001b[0;34m]\u001b[0m\u001b[0;34m,\u001b[0m \u001b[0manswers\u001b[0m\u001b[0;34m[\u001b[0m\u001b[0mn\u001b[0m\u001b[0;34m]\u001b[0m\u001b[0;34m)\u001b[0m\u001b[0;34m\u001b[0m\u001b[0m\n\u001b[0m",
      "\u001b[0;31mNameError\u001b[0m: name 'assertEqual' is not defined"
     ]
    }
   ],
   "source": [
    "import unittest\n",
    "\n",
    "testcases = [\n",
    "    [1, 2, 3, 4, 5, 6, 7],\n",
    "    [7, 6, 5, 4, 3, 2, 1],\n",
    "    [1],\n",
    "    [2, 1],\n",
    "    [1, 3, 2, 4, 6, 5, 7]\n",
    "]\n",
    "\n",
    "answers = [\n",
    "    [1, 2, 3, 4, 5, 6, 7],\n",
    "    [1, 2, 3, 4, 5, 6, 7],\n",
    "    [1],\n",
    "    [1, 2],\n",
    "    [1, 2, 3, 4, 5, 6, 7]\n",
    "]\n",
    "\n",
    "for n in range(len(testcases)):\n",
    "    sort(testcases[n])\n",
    "    print(testcases[n], answers[n])\n",
    "    assertEqual(testcases[n], answers[n])"
   ]
  },
  {
   "cell_type": "code",
   "execution_count": 8,
   "metadata": {
    "collapsed": false
   },
   "outputs": [
    {
     "name": "stderr",
     "output_type": "stream",
     "text": [
      "E\n",
      "======================================================================\n",
      "ERROR: /run/user/1000/jupyter/kernel-e78b812c-bf69-4e73-b32e-02c3d615584b (unittest.loader._FailedTest)\n",
      "----------------------------------------------------------------------\n",
      "AttributeError: module '__main__' has no attribute '/run/user/1000/jupyter/kernel-e78b812c-bf69-4e73-b32e-02c3d615584b'\n",
      "\n",
      "----------------------------------------------------------------------\n",
      "Ran 1 test in 0.001s\n",
      "\n",
      "FAILED (errors=1)\n"
     ]
    },
    {
     "ename": "SystemExit",
     "evalue": "True",
     "output_type": "error",
     "traceback": [
      "An exception has occurred, use %tb to see the full traceback.\n",
      "\u001b[0;31mSystemExit\u001b[0m\u001b[0;31m:\u001b[0m True\n"
     ]
    },
    {
     "name": "stderr",
     "output_type": "stream",
     "text": [
      "/home/mhlee/.pyenv/versions/v3.5.3/lib/python3.5/site-packages/IPython/core/interactiveshell.py:2889: UserWarning: To exit: use 'exit', 'quit', or Ctrl-D.\n",
      "  warn(\"To exit: use 'exit', 'quit', or Ctrl-D.\", stacklevel=1)\n"
     ]
    }
   ],
   "source": [
    "import unittest\n",
    "\n",
    "class TestSortCases(unittest.TestCase):\n",
    "\n",
    "    def test_cases(self):\n",
    "        testcases = [\n",
    "            [1, 2, 3, 4, 5, 6, 7],\n",
    "            [7, 6, 5, 4, 3, 2, 1],\n",
    "            [1],\n",
    "            [2, 1],\n",
    "            [1, 3, 2, 4, 6, 5, 7]\n",
    "        ]\n",
    "\n",
    "        answers = [\n",
    "            [1, 2, 3, 4, 5, 6, 7],\n",
    "            [1, 2, 3, 4, 5, 6, 7],\n",
    "            [1],\n",
    "            [1, 2],\n",
    "            [1, 2, 3, 4, 5, 6, 7]\n",
    "        ]\n",
    "        \n",
    "        for n in range(len(testcases)):\n",
    "            sort(testcases[n])\n",
    "            print(testcases[n], answers[n])\n",
    "            assertEqual(testcases[n], answers[n])\n",
    "\n",
    "if __name__ == '__main__':\n",
    "    unittest.main()"
   ]
  },
  {
   "cell_type": "code",
   "execution_count": null,
   "metadata": {
    "collapsed": true
   },
   "outputs": [],
   "source": []
  }
 ],
 "metadata": {
  "kernelspec": {
   "display_name": "Python 3",
   "language": "python",
   "name": "python3"
  },
  "language_info": {
   "codemirror_mode": {
    "name": "ipython",
    "version": 3
   },
   "file_extension": ".py",
   "mimetype": "text/x-python",
   "name": "python",
   "nbconvert_exporter": "python",
   "pygments_lexer": "ipython3",
   "version": "3.5.2"
  }
 },
 "nbformat": 4,
 "nbformat_minor": 2
}
