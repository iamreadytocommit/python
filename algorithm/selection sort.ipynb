{
 "cells": [
  {
   "cell_type": "markdown",
   "metadata": {},
   "source": [
    "# selection sort\n",
    "\n",
    "1. 가장 단순한 정열 알고리즘중 하나이며,\n",
    "2. $n^2$의 시간 복잡도를 가진다."
   ]
  },
  {
   "cell_type": "code",
   "execution_count": 1,
   "metadata": {
    "collapsed": true
   },
   "outputs": [],
   "source": [
    "#입력된 배열의 x, y번째 값을 교환한다.\n",
    "def swap(numbers, x, y) :\n",
    "    if x == y :\n",
    "        return\n",
    "    numbers[x], numbers[y] = numbers[y], numbers[x]"
   ]
  },
  {
   "cell_type": "code",
   "execution_count": 2,
   "metadata": {
    "collapsed": false
   },
   "outputs": [],
   "source": [
    "def sort(numbers) :\n",
    "    LEN = len(numbers)\n",
    "    for x in range(LEN) :\n",
    "        min_value = numbers[x]\n",
    "        for y in range(x+1, LEN) :\n",
    "            if min_value > numbers[y] :\n",
    "                min_value = numbers[y]\n",
    "                swap(numbers, x, y)               "
   ]
  },
  {
   "cell_type": "code",
   "execution_count": 3,
   "metadata": {
    "collapsed": false
   },
   "outputs": [
    {
     "name": "stdout",
     "output_type": "stream",
     "text": [
      "[1, 2, 3, 4, 5, 6, 7]\n",
      "[1, 2, 3, 4, 5, 6, 7]\n",
      "[1]\n",
      "[1, 2]\n",
      "[1, 2, 3, 4, 5, 6, 7]\n"
     ]
    }
   ],
   "source": [
    "import unittest\n",
    "\n",
    "testcases = [\n",
    "    [1, 2, 3, 4, 5, 6, 7],\n",
    "    [7, 6, 5, 4, 3, 2, 1],\n",
    "    [1],\n",
    "    [2, 1],\n",
    "    [1, 3, 2, 4, 6, 5, 7]\n",
    "]\n",
    "\n",
    "answers = [\n",
    "    [1, 2, 3, 4, 5, 6, 7],\n",
    "    [1, 2, 3, 4, 5, 6, 7],\n",
    "    [1],\n",
    "    [1, 2],\n",
    "    [1, 2, 3, 4, 5, 6, 7]\n",
    "]\n",
    "\n",
    "for n in range(len(testcases)):\n",
    "    sort(testcases[n])\n",
    "    print(testcases[n])"
   ]
  }
 ],
 "metadata": {
  "kernelspec": {
   "display_name": "Python 3",
   "language": "python",
   "name": "python3"
  },
  "language_info": {
   "codemirror_mode": {
    "name": "ipython",
    "version": 3
   },
   "file_extension": ".py",
   "mimetype": "text/x-python",
   "name": "python",
   "nbconvert_exporter": "python",
   "pygments_lexer": "ipython3",
   "version": "3.5.2"
  }
 },
 "nbformat": 4,
 "nbformat_minor": 2
}
