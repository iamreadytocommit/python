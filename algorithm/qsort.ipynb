{
 "cells": [
  {
   "cell_type": "markdown",
   "metadata": {
    "deletable": true,
    "editable": true
   },
   "source": [
    "# quick sort\n",
    "\n",
    "1. 평균적으로 $nlog(n)$의 시간 복잡도를 가지며,\n",
    "2. 최악의 경우 $n^2$의 시간 복잡도를 가진다.\n",
    "3. 함수는 크게 3가지로 구성된다.\n",
    "  * swap : 입력된 x, y의 위치의 값을 변경한다.\n",
    "  * partition : 입력된 begin, end사이의 값을 pivot value기준으로 작은값/큰값으로 구분한다.\n",
    "  * sort : partition함수를 호출후 left와 right쪽을 재귀적으로 정렬한다."
   ]
  },
  {
   "cell_type": "code",
   "execution_count": 1,
   "metadata": {
    "collapsed": true,
    "deletable": true,
    "editable": true
   },
   "outputs": [],
   "source": [
    "#입력된 배열의 x, y번째 값을 교환한다.\n",
    "def swap(numbers, x, y) :\n",
    "    if x == y :\n",
    "        return\n",
    "    numbers[x], numbers[y] = numbers[y], numbers[x]"
   ]
  },
  {
   "cell_type": "code",
   "execution_count": 2,
   "metadata": {
    "collapsed": true,
    "deletable": true,
    "editable": true
   },
   "outputs": [],
   "source": [
    "#입력된 배열의 begin, end사이의 값을 pivot value기준으로 작은값, 큰값으로 나눈다.\n",
    "#pivot value 는 배열의 마지막값(end-1)이라 한다.\n",
    "#재귀 호출이 발생하므로, 각 변수의 초기값은 상수가 아니라 begin, end의 상대값이여 한다.\n",
    "def partition(numbers, begin, end) :    \n",
    "    pv = numbers[end -1]\n",
    "    high = begin\n",
    "    low = begin-1\n",
    "    \n",
    "    while(high < end -1) :\n",
    "        if numbers[high] < pv :\n",
    "            low += 1\n",
    "            swap(numbers, high, low)\n",
    "        high += 1\n",
    "    \n",
    "    #pivot value를 배열의 중간 위치로 변경한다. 중간 == low + 1\n",
    "    swap(numbers, low+1, end -1)\n",
    "    \n",
    "    return low + 1"
   ]
  },
  {
   "cell_type": "code",
   "execution_count": 3,
   "metadata": {
    "collapsed": false,
    "deletable": true,
    "editable": true
   },
   "outputs": [],
   "source": [
    "#qsort 메인\n",
    "#partition작업후, left / right 쪽을 재귀적으로 정렬한다.\n",
    "def qsort(numbers, begin, end) :\n",
    "    if begin >= end -1 :\n",
    "        return\n",
    "    \n",
    "    #파티셔닝\n",
    "    middle = partition(numbers, begin, end)\n",
    "    \n",
    "    #left side\n",
    "    qsort(numbers, begin, middle)\n",
    "    #right side\n",
    "    qsort(numbers, middle+1, end)"
   ]
  },
  {
   "cell_type": "code",
   "execution_count": 4,
   "metadata": {
    "collapsed": false,
    "deletable": true,
    "editable": true
   },
   "outputs": [
    {
     "name": "stdout",
     "output_type": "stream",
     "text": [
      "[1, 2, 3, 4, 5, 6, 7]\n",
      "[1, 2, 3, 4, 5, 6, 7]\n",
      "[1]\n",
      "[1, 2]\n",
      "[1, 2, 3, 4, 5, 6, 7]\n"
     ]
    }
   ],
   "source": [
    "import unittest\n",
    "\n",
    "testcases = [\n",
    "    [1, 2, 3, 4, 5, 6, 7],\n",
    "    [7, 6, 5, 4, 3, 2, 1],\n",
    "    [1],\n",
    "    [2, 1],\n",
    "    [1, 3, 2, 4, 6, 5, 7]\n",
    "]\n",
    "\n",
    "answers = [\n",
    "    [1, 2, 3, 4, 5, 6, 7],\n",
    "    [1, 2, 3, 4, 5, 6, 7],\n",
    "    [1],\n",
    "    [1, 2],\n",
    "    [1, 2, 3, 4, 5, 6, 7]\n",
    "]\n",
    "\n",
    "for n in range(len(testcases)):\n",
    "    qsort(testcases[n], 0, len(testcases[n]))\n",
    "    print(testcases[n])"
   ]
  }
 ],
 "metadata": {
  "kernelspec": {
   "display_name": "Python 3",
   "language": "python",
   "name": "python3"
  },
  "language_info": {
   "codemirror_mode": {
    "name": "ipython",
    "version": 3
   },
   "file_extension": ".py",
   "mimetype": "text/x-python",
   "name": "python",
   "nbconvert_exporter": "python",
   "pygments_lexer": "ipython3",
   "version": "3.5.2"
  }
 },
 "nbformat": 4,
 "nbformat_minor": 2
}
