{
 "cells": [
  {
   "cell_type": "markdown",
   "metadata": {
    "collapsed": true,
    "deletable": true,
    "editable": true
   },
   "source": [
    "# Powerset"
   ]
  },
  {
   "cell_type": "code",
   "execution_count": 1,
   "metadata": {
    "collapsed": true,
    "deletable": true,
    "editable": true
   },
   "outputs": [],
   "source": [
    "def sovle(str) :\n",
    "    out = []\n",
    "    power_set(str, 0, out)"
   ]
  },
  {
   "cell_type": "code",
   "execution_count": 2,
   "metadata": {
    "collapsed": false,
    "deletable": true,
    "editable": true
   },
   "outputs": [],
   "source": [
    "def power_set(str, begin, out) :\n",
    "    if begin >= len(str) :\n",
    "        return\n",
    "    \n",
    "    for curr in range(begin, len(str)) :\n",
    "        out.append(str[curr])\n",
    "        print(out)\n",
    "        #한번 사용된 char는 사용될수 없다. begin값을 curr+1 SET\n",
    "        power_set(str, curr+1, out)\n",
    "        \n",
    "        out.pop()\n",
    "\n",
    "        "
   ]
  },
  {
   "cell_type": "code",
   "execution_count": 3,
   "metadata": {
    "collapsed": false,
    "deletable": true,
    "editable": true
   },
   "outputs": [
    {
     "name": "stdout",
     "output_type": "stream",
     "text": [
      "['a']\n",
      "['a', 'b']\n",
      "['a', 'b', 'c']\n",
      "['a', 'b', 'c', 'd']\n",
      "['a', 'b', 'd']\n",
      "['a', 'c']\n",
      "['a', 'c', 'd']\n",
      "['a', 'd']\n",
      "['b']\n",
      "['b', 'c']\n",
      "['b', 'c', 'd']\n",
      "['b', 'd']\n",
      "['c']\n",
      "['c', 'd']\n",
      "['d']\n"
     ]
    }
   ],
   "source": [
    "sovle('abcd')"
   ]
  },
  {
   "cell_type": "code",
   "execution_count": null,
   "metadata": {
    "collapsed": true
   },
   "outputs": [],
   "source": []
  }
 ],
 "metadata": {
  "kernelspec": {
   "display_name": "Python 3",
   "language": "python",
   "name": "python3"
  },
  "language_info": {
   "codemirror_mode": {
    "name": "ipython",
    "version": 3
   },
   "file_extension": ".py",
   "mimetype": "text/x-python",
   "name": "python",
   "nbconvert_exporter": "python",
   "pygments_lexer": "ipython3",
   "version": "3.5.2"
  }
 },
 "nbformat": 4,
 "nbformat_minor": 2
}
