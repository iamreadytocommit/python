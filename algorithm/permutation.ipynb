{
 "cells": [
  {
   "cell_type": "markdown",
   "metadata": {
    "deletable": true,
    "editable": true
   },
   "source": [
    "# 순열 만들기\n"
   ]
  },
  {
   "cell_type": "code",
   "execution_count": 1,
   "metadata": {
    "collapsed": true,
    "deletable": true,
    "editable": true
   },
   "outputs": [],
   "source": [
    "def solve(str) :\n",
    "    # 입력된 문자의 char각각이 사용되었는지 여부를 체크할 배열\n",
    "    used = \"0\" * len(str)\n",
    "    \n",
    "    permute(list(str), list(used), [])"
   ]
  },
  {
   "cell_type": "code",
   "execution_count": 2,
   "metadata": {
    "collapsed": false,
    "deletable": true,
    "editable": true
   },
   "outputs": [],
   "source": [
    "def permute(str, used, out) :\n",
    "    \n",
    "    # 입력된 문자와 길이가 같으면, 순열이 만들어진것임. 출력\n",
    "    if len(str) == len(out) :\n",
    "        print(out)\n",
    "        return \n",
    "    \n",
    "\n",
    "    for curr in range(len(str)) :\n",
    "        if used[curr] == '1' :\n",
    "            continue\n",
    "        \n",
    "        #미사용건을 out buf에 넣고, 사용=Y로 표기\n",
    "        out.append(str[curr])\n",
    "        used[curr] = \"1\"\n",
    "        \n",
    "        # 재귀 호출\n",
    "        permute(str, used, out)\n",
    "        \n",
    "        #사용된 char을 제거하고, 사용=N로 표기\n",
    "        used[curr] = \"0\"\n",
    "        out.pop()"
   ]
  },
  {
   "cell_type": "code",
   "execution_count": 3,
   "metadata": {
    "collapsed": false,
    "deletable": true,
    "editable": true
   },
   "outputs": [
    {
     "name": "stdout",
     "output_type": "stream",
     "text": [
      "['a', 'b', 'c']\n",
      "['a', 'c', 'b']\n",
      "['b', 'a', 'c']\n",
      "['b', 'c', 'a']\n",
      "['c', 'a', 'b']\n",
      "['c', 'b', 'a']\n"
     ]
    }
   ],
   "source": [
    "solve(\"abc\")"
   ]
  },
  {
   "cell_type": "code",
   "execution_count": null,
   "metadata": {
    "collapsed": true
   },
   "outputs": [],
   "source": []
  }
 ],
 "metadata": {
  "kernelspec": {
   "display_name": "Python 3",
   "language": "python",
   "name": "python3"
  },
  "language_info": {
   "codemirror_mode": {
    "name": "ipython",
    "version": 3
   },
   "file_extension": ".py",
   "mimetype": "text/x-python",
   "name": "python",
   "nbconvert_exporter": "python",
   "pygments_lexer": "ipython3",
   "version": "3.5.2"
  }
 },
 "nbformat": 4,
 "nbformat_minor": 2
}
